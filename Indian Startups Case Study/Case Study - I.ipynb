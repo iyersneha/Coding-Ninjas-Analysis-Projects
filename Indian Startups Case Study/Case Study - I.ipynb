{
 "cells": [
  {
   "cell_type": "code",
   "execution_count": 1,
   "id": "74ba5f14",
   "metadata": {},
   "outputs": [],
   "source": [
    "import numpy as np\n",
    "import pandas as pd\n",
    "import matplotlib.pyplot as plt"
   ]
  },
  {
   "cell_type": "code",
   "execution_count": 2,
   "id": "bfa5a6fb",
   "metadata": {},
   "outputs": [
    {
     "data": {
      "text/html": [
       "<div>\n",
       "<style scoped>\n",
       "    .dataframe tbody tr th:only-of-type {\n",
       "        vertical-align: middle;\n",
       "    }\n",
       "\n",
       "    .dataframe tbody tr th {\n",
       "        vertical-align: top;\n",
       "    }\n",
       "\n",
       "    .dataframe thead th {\n",
       "        text-align: right;\n",
       "    }\n",
       "</style>\n",
       "<table border=\"1\" class=\"dataframe\">\n",
       "  <thead>\n",
       "    <tr style=\"text-align: right;\">\n",
       "      <th></th>\n",
       "      <th>SNo</th>\n",
       "      <th>Date</th>\n",
       "      <th>StartupName</th>\n",
       "      <th>IndustryVertical</th>\n",
       "      <th>SubVertical</th>\n",
       "      <th>CityLocation</th>\n",
       "      <th>InvestorsName</th>\n",
       "      <th>InvestmentType</th>\n",
       "      <th>AmountInUSD</th>\n",
       "      <th>Remarks</th>\n",
       "    </tr>\n",
       "  </thead>\n",
       "  <tbody>\n",
       "    <tr>\n",
       "      <th>0</th>\n",
       "      <td>0</td>\n",
       "      <td>01/08/2017</td>\n",
       "      <td>TouchKin</td>\n",
       "      <td>Technology</td>\n",
       "      <td>Predictive Care Platform</td>\n",
       "      <td>Bangalore</td>\n",
       "      <td>Kae Capital</td>\n",
       "      <td>Private Equity</td>\n",
       "      <td>1,300,000</td>\n",
       "      <td>NaN</td>\n",
       "    </tr>\n",
       "    <tr>\n",
       "      <th>1</th>\n",
       "      <td>1</td>\n",
       "      <td>02/08/2017</td>\n",
       "      <td>Ethinos</td>\n",
       "      <td>Technology</td>\n",
       "      <td>Digital Marketing Agency</td>\n",
       "      <td>Mumbai</td>\n",
       "      <td>Triton Investment Advisors</td>\n",
       "      <td>Private Equity</td>\n",
       "      <td>NaN</td>\n",
       "      <td>NaN</td>\n",
       "    </tr>\n",
       "    <tr>\n",
       "      <th>2</th>\n",
       "      <td>2</td>\n",
       "      <td>02/08/2017</td>\n",
       "      <td>Leverage Edu</td>\n",
       "      <td>Consumer Internet</td>\n",
       "      <td>Online platform for Higher Education Services</td>\n",
       "      <td>New Delhi</td>\n",
       "      <td>Kashyap Deorah, Anand Sankeshwar, Deepak Jain,...</td>\n",
       "      <td>Seed Funding</td>\n",
       "      <td>NaN</td>\n",
       "      <td>NaN</td>\n",
       "    </tr>\n",
       "    <tr>\n",
       "      <th>3</th>\n",
       "      <td>3</td>\n",
       "      <td>02/08/2017</td>\n",
       "      <td>Zepo</td>\n",
       "      <td>Consumer Internet</td>\n",
       "      <td>DIY Ecommerce platform</td>\n",
       "      <td>Mumbai</td>\n",
       "      <td>Kunal Shah, LetsVenture, Anupam Mittal, Hetal ...</td>\n",
       "      <td>Seed Funding</td>\n",
       "      <td>500,000</td>\n",
       "      <td>NaN</td>\n",
       "    </tr>\n",
       "    <tr>\n",
       "      <th>4</th>\n",
       "      <td>4</td>\n",
       "      <td>02/08/2017</td>\n",
       "      <td>Click2Clinic</td>\n",
       "      <td>Consumer Internet</td>\n",
       "      <td>healthcare service aggregator</td>\n",
       "      <td>Hyderabad</td>\n",
       "      <td>Narottam Thudi, Shireesh Palle</td>\n",
       "      <td>Seed Funding</td>\n",
       "      <td>850,000</td>\n",
       "      <td>NaN</td>\n",
       "    </tr>\n",
       "  </tbody>\n",
       "</table>\n",
       "</div>"
      ],
      "text/plain": [
       "   SNo        Date   StartupName   IndustryVertical  \\\n",
       "0    0  01/08/2017      TouchKin         Technology   \n",
       "1    1  02/08/2017       Ethinos         Technology   \n",
       "2    2  02/08/2017  Leverage Edu  Consumer Internet   \n",
       "3    3  02/08/2017          Zepo  Consumer Internet   \n",
       "4    4  02/08/2017  Click2Clinic  Consumer Internet   \n",
       "\n",
       "                                     SubVertical CityLocation  \\\n",
       "0                       Predictive Care Platform    Bangalore   \n",
       "1                       Digital Marketing Agency       Mumbai   \n",
       "2  Online platform for Higher Education Services    New Delhi   \n",
       "3                         DIY Ecommerce platform       Mumbai   \n",
       "4                  healthcare service aggregator    Hyderabad   \n",
       "\n",
       "                                       InvestorsName  InvestmentType  \\\n",
       "0                                        Kae Capital  Private Equity   \n",
       "1                         Triton Investment Advisors  Private Equity   \n",
       "2  Kashyap Deorah, Anand Sankeshwar, Deepak Jain,...    Seed Funding   \n",
       "3  Kunal Shah, LetsVenture, Anupam Mittal, Hetal ...    Seed Funding   \n",
       "4                     Narottam Thudi, Shireesh Palle    Seed Funding   \n",
       "\n",
       "  AmountInUSD Remarks  \n",
       "0   1,300,000     NaN  \n",
       "1         NaN     NaN  \n",
       "2         NaN     NaN  \n",
       "3     500,000     NaN  \n",
       "4     850,000     NaN  "
      ]
     },
     "execution_count": 2,
     "metadata": {},
     "output_type": "execute_result"
    }
   ],
   "source": [
    "df_startups = pd.read_csv('/Users/Sneha/Desktop/startup_funding.csv')\n",
    "df_startups.head()"
   ]
  },
  {
   "cell_type": "markdown",
   "id": "9db85942",
   "metadata": {},
   "source": [
    "#### 1. Check the trend of investments over the years. To check the trend, find - Total number of fundings done in each year.\n",
    "#### Plot a line graph between year and number of fundings. Take year on x-axis and number of fundings on y-axis. Print year-wise total number of fundings also. Print years in ascending order.\n",
    "#### Note : There is some error in the 'Date' feature. Make sure to handle that."
   ]
  },
  {
   "cell_type": "code",
   "execution_count": 46,
   "id": "68905a0c",
   "metadata": {},
   "outputs": [
    {
     "name": "stdout",
     "output_type": "stream",
     "text": [
      "2015 936\n",
      "2016 993\n",
      "2017 443\n"
     ]
    }
   ],
   "source": [
    "df_fund = df_startups.copy()\n",
    "\n",
    "df_fund['Date'].replace(\"12/05.2015\", \"12/05/2015\", inplace = True)\n",
    "df_fund['Date'].replace(\"13/04.2015\", \"13/04/2015\", inplace = True)\n",
    "df_fund['Date'].replace(\"15/01.2015\", \"15/01/2015\", inplace = True)\n",
    "df_fund['Date'].replace(\"22/01//2015\", \"22/01/2015\", inplace = True)\n",
    "\n",
    "df_fund['yyyy'] = pd.to_datetime(df_fund['Date']).dt.year\n",
    "funds = df_fund['yyyy'].value_counts()\n",
    "funds = funds.sort_index()\n",
    "\n",
    "for index, values in funds.iteritems():\n",
    "     print(index, values)"
   ]
  },
  {
   "cell_type": "code",
   "execution_count": 56,
   "id": "0a141216",
   "metadata": {},
   "outputs": [
    {
     "data": {
      "image/png": "[encoded data removed]",
      "text/plain": [
       "<Figure size 432x288 with 1 Axes>"
      ]
     },
     "metadata": {
      "needs_background": "light"
     },
     "output_type": "display_data"
    }
   ],
   "source": [
    "# Graph between years and number of fundings\n",
    "year_funds = funds.index.tolist()\n",
    "funds_value= funds.values.tolist()\n",
    "\n",
    "plt.plot(year_funds, funds_value, marker = 'o')\n",
    "plt.xticks(year_funds)\n",
    "plt.title(\"Year Vs No of funding rounds\")\n",
    "plt.xlabel('Year')\n",
    "plt.ylabel('No of fundings')\n",
    "plt.show()"
   ]
  },
  {
   "cell_type": "markdown",
   "id": "ba07d2fb",
   "metadata": {},
   "source": [
    "#### 2. Find out which cities are generally chosen for starting a startup. Find top 10 Indian cities which have most number of startups ?\n",
    "#### Plot a pie chart and visualise it. Print the city name and number of startups in that city also.\n",
    "#### Note: Take city name \"Delhi\" as \"New Delhi\". Check the case-sensitiveness of cities also. That means - at some place, instead of \"Bangalore\", \"bangalore\" is given. Take city name as \"Bangalore\". For few startups multiple locations are given, one Indian and one Foreign. Count those startups in Indian startup also. Indian city name is first. Print the city in descending order with respect to the number of startups."
   ]
  },
  {
   "cell_type": "code",
   "execution_count": 3,
   "id": "3b2f0891",
   "metadata": {},
   "outputs": [
    {
     "name": "stdout",
     "output_type": "stream",
     "text": [
      "Bangalore 635\n",
      "Mumbai 449\n",
      "New Delhi 389\n",
      "Gurgaon 241\n",
      "Pune 91\n",
      "Noida 79\n",
      "Hyderabad 77\n",
      "Chennai 67\n",
      "Ahmedabad 35\n",
      "Jaipur 25\n"
     ]
    }
   ],
   "source": [
    "df_cities = df_startups.copy()\n",
    "#df_cities.CityLocation.isnull().sum()\n",
    "\n",
    "df_cities = df_cities[df_cities['CityLocation'].notna()]\n",
    "\n",
    "def twoCities(city):\n",
    "    return city.split('/')[0].strip()\n",
    "\n",
    "df_cities['CityLocation'] = df_cities['CityLocation'].apply(twoCities)\n",
    "df_cities['CityLocation'].replace(\"Delhi\", \"New Delhi\", inplace = True)\n",
    "df_cities['CityLocation'].replace(\"bangalore\", \"Bangalore\", inplace = True)\n",
    "\n",
    "number_of_cities = df_cities['CityLocation'].value_counts()[0:10]\n",
    "city = number_of_cities.index\n",
    "num_startups = number_of_cities.values\n",
    "\n",
    "for i in range(len(city)):\n",
    "    print(city[i], num_startups[i])"
   ]
  },
  {
   "cell_type": "code",
   "execution_count": 93,
   "id": "050cff07",
   "metadata": {},
   "outputs": [
    {
     "data": {
      "image/png": "[encoded data removed]",
      "text/plain": [
       "<Figure size 432x288 with 1 Axes>"
      ]
     },
     "metadata": {},
     "output_type": "display_data"
    }
   ],
   "source": [
    "# pie chart for top 3 cities and startups\n",
    "city_top3 = ['Bangalore', 'Mumbai', 'New Delhi']\n",
    "num_startups_top3 = [635, 449, 389]\n",
    "\n",
    "textprops = {\"fontsize\":13}\n",
    "colors = [\"r\", \"c\", \"pink\"]\n",
    "plt.title(\"Top 3 cities with the most no. of startups\")\n",
    "plt.pie(num_startups_top3, labels = city_top3, autopct= \"%.0f%%\", textprops = textprops, colors = colors)\n",
    "plt.show()"
   ]
  },
  {
   "cell_type": "markdown",
   "id": "1b5063f9",
   "metadata": {},
   "source": [
    "#### 3. From the above question, find out percentage of funding each city has got (among top 10 Indian cities only). Print the city and percentage with 2 decimal place after rounding off. Print the city in descending order with respect to the percentage of funding."
   ]
  },
  {
   "cell_type": "code",
   "execution_count": 54,
   "id": "99b5d045",
   "metadata": {},
   "outputs": [
    {
     "name": "stdout",
     "output_type": "stream",
     "text": [
      "Bangalore 49.71\n",
      "Mumbai 16.63\n",
      "New Delhi 13.90\n",
      "Gurgaon 12.21\n",
      "Pune 2.43\n",
      "Noida 2.16\n",
      "Hyderabad 1.15\n",
      "Chennai 1.01\n",
      "Ahmedabad 0.58\n",
      "Jaipur 0.21\n"
     ]
    }
   ],
   "source": [
    "df_cities['AmountInUSD'] = df_cities['AmountInUSD'].apply(lambda x:float(str(x).replace(',' , '')))\n",
    "df_cities['AmountInUSD'] = pd.to_numeric(df_cities['AmountInUSD'])\n",
    "\n",
    "amount = df_cities.groupby('CityLocation')['AmountInUSD'].sum().sort_values(ascending = False)[0:10]\n",
    "fund_city = amount.index\n",
    "fund_amount = amount.values\n",
    "percentage_fund_amount = np.true_divide(fund_amount, fund_amount.sum())* 100\n",
    "\n",
    "for i in range(len(fund_city)):\n",
    "    print(city[i], format(percentage_fund_amount[i],'.2f'))\n",
    "    "
   ]
  },
  {
   "cell_type": "markdown",
   "id": "408c4c36",
   "metadata": {},
   "source": [
    "#### 4. There are 4 different type of investments. Find out percentage of amount funded for each investment type. Plot a pie chart to visualise. Print the investment type and percentage of amount funded with 2 decimal places after rounding off.\n",
    "#### Correct spelling of investment types are - \"Private Equity\", \"Seed Funding\", \"Debt Funding\", and \"Crowd Funding\". Keep an eye for any spelling mistake. You can find this by printing unique values from this column.\n",
    "#### Print the investment type in descending order with respect to the percentage of the amount funded."
   ]
  },
  {
   "cell_type": "code",
   "execution_count": 121,
   "id": "81cbd863",
   "metadata": {},
   "outputs": [
    {
     "name": "stdout",
     "output_type": "stream",
     "text": [
      "Private Equity 98.15\n",
      "Seed Funding 1.81\n",
      "Debt Funding 0.04\n",
      "Crowd Funding 0.00\n"
     ]
    }
   ],
   "source": [
    "df_investments = df_startups.copy()\n",
    "#print(df_investments['InvestmentType'].unique())\n",
    "\n",
    "df_investments['InvestmentType'].replace('PrivateEquity', 'Private Equity', inplace = True)\n",
    "df_investments['InvestmentType'].replace('SeedFunding', 'Seed Funding', inplace = True)\n",
    "df_investments['InvestmentType'].replace('Crowd funding', 'Crowd Funding', inplace = True)\n",
    "\n",
    "df_investments['AmountInUSD'] = df_investments['AmountInUSD'].apply(lambda x: float(str(x).replace(',' , '')))\n",
    "df_investments['AmountInUSD'] = pd.to_numeric(df_investments['AmountInUSD'])\n",
    "\n",
    "investment_type = df_investments.groupby('InvestmentType')['AmountInUSD'].sum().sort_values(ascending = False)\n",
    "invest = investment_type.index\n",
    "funding_amount = investment_type.values\n",
    "percentage_funding = np.true_divide(funding_amount, funding_amount.sum())*100\n",
    "\n",
    "for i in range(len(invest)):\n",
    "    print(invest[i], format(percentage_funding[i], '.2f'))"
   ]
  },
  {
   "cell_type": "code",
   "execution_count": 120,
   "id": "1ed78cc8",
   "metadata": {},
   "outputs": [
    {
     "data": {
      "image/png": "[encoded data removed]",
      "text/plain": [
       "<Figure size 432x288 with 1 Axes>"
      ]
     },
     "metadata": {},
     "output_type": "display_data"
    }
   ],
   "source": [
    "#pie chart for top 2 investment types and funding \n",
    "\n",
    "inv_type = ['Private Equity', 'Seed Funding']\n",
    "percent_fund = [98.15, 1.81]\n",
    "\n",
    "textprops = {\"fontsize\":12}\n",
    "colors = [\"c\", \"r\"]\n",
    "# plt.title(\"Top 3 cities with the most no. of startups\")\n",
    "labels = inv_type\n",
    "plt.title(\"Top investment types with % funding\")\n",
    "plt.pie(percent_fund,labels = inv_type, autopct= \"%.0f%%\", textprops = textprops, colors = colors)\n",
    "\n",
    "plt.show()"
   ]
  },
  {
   "cell_type": "markdown",
   "id": "750752d3",
   "metadata": {},
   "source": [
    "#### 5. Which type of companies got more fundings?  To answer this question, find -Top 5 industries and percentage of the total amount funded to that industry. (among top 5 only).\n",
    "#### Print the industry name and percentage of the amount funded with 2 decimal place after rounding off.\n",
    "#### Note :Ecommerce is the right word in IndustryVertical, so correct it. Print the industry in descending order with respect to the percentage of the amount funded."
   ]
  },
  {
   "cell_type": "code",
   "execution_count": 181,
   "id": "caef34bb",
   "metadata": {},
   "outputs": [
    {
     "name": "stdout",
     "output_type": "stream",
     "text": [
      "Ecommerce 40.53\n",
      "Consumer Internet 35.95\n",
      "Technology 10.45\n",
      "Online Marketplace 6.63\n",
      "E-Commerce & M-Commerce platform 6.44\n"
     ]
    }
   ],
   "source": [
    "df_ind = df_startups.copy()\n",
    "#df_ind['IndustryVertical'].unique()\n",
    "df_ind['IndustryVertical'].replace('eCommerce', 'Ecommerce', inplace = True)\n",
    "df_ind['IndustryVertical'].replace('ecommerce', 'Ecommerce', inplace = True)\n",
    "df_ind['IndustryVertical'].replace('ECommerce', 'Ecommerce', inplace = True)\n",
    "\n",
    "df_ind['AmountInUSD'] = df_ind['AmountInUSD'].apply(lambda x:float(str(x).replace(',' , '')))\n",
    "df_ind['AmountInUSD'] = pd.to_numeric(df_ind['AmountInUSD'])\n",
    "\n",
    "ind_amount = df_ind.groupby('IndustryVertical')['AmountInUSD'].sum().sort_values(ascending = False)[0:5]\n",
    "industry = ind_amount.index\n",
    "fund = ind_amount.values\n",
    "\n",
    "percent_fund = np.true_divide(fund, fund.sum())* 100\n",
    "\n",
    "\n",
    "for i in range(len(industry)):\n",
    "    print(industry[i], format(percent_fund[i],'.2f'))"
   ]
  },
  {
   "cell_type": "markdown",
   "id": "3a84ba25",
   "metadata": {},
   "source": [
    "#### 6. Find top 5 startups with most amount of total funding. Print the startup name in descending order with respect to amount of funding. Note: Ola, Flipkart, Oyo, Paytm are important startups, so correct their names. There are many errors in startup names, ignore correcting all, just handle important ones."
   ]
  },
  {
   "cell_type": "code",
   "execution_count": 172,
   "id": "ad1ae9f8",
   "metadata": {},
   "outputs": [
    {
     "name": "stdout",
     "output_type": "stream",
     "text": [
      "Paytm\n",
      "Flipkart\n",
      "Ola\n",
      "Snapdeal\n",
      "Oyo\n"
     ]
    }
   ],
   "source": [
    "df_start = df_startups.copy()\n",
    "#print(df_start['StartupName'].unique()\n",
    "\n",
    "df_start['StartupName'].replace('Olacabs', 'Ola', inplace = True)\n",
    "df_start['StartupName'].replace('Ola Cabs', 'Ola', inplace = True)\n",
    "df_start['StartupName'].replace('Flipkart.com', 'Flipkart', inplace = True)\n",
    "df_start['StartupName'].replace('Paytm Marketplace', 'Paytm', inplace = True)\n",
    "df_start['StartupName'].replace('Oyo Rooms', 'Oyo', inplace = True)\n",
    "df_start['StartupName'].replace('Oyorooms', 'Oyo', inplace = True)\n",
    "df_start['StartupName'].replace('OyoRooms', 'Oyo', inplace = True)\n",
    "df_start['StartupName'].replace('OYO Rooms', 'Oyo', inplace =True)\n",
    "\n",
    "df_start['AmountInUSD'] = df_start['AmountInUSD'].apply(lambda x:float(str(x).replace(',' , '')))\n",
    "df_start['AmountInUSD'] = pd.to_numeric(df_start['AmountInUSD'])\n",
    "startups = df_start.groupby('StartupName')['AmountInUSD'].sum().sort_values(ascending= False)[0:5]\n",
    "startup_name = startups.index\n",
    "startup_fund = startups.values\n",
    "\n",
    "for name in startup_name:\n",
    "    print(name)"
   ]
  },
  {
   "cell_type": "markdown",
   "id": "1d77c820",
   "metadata": {},
   "source": [
    "#### 7. Find the top 5 startups who received the most number of funding rounds. That means, startups which got fundings maximum number of times. Print the startup name in descending order with respect to the number of funding round as integer value.\n",
    "#### Note: Ola, Flipkart, Oyo, Paytm are important startups, so correct their names. There are many errors in startup names, ignore correcting all, just handle important ones"
   ]
  },
  {
   "cell_type": "code",
   "execution_count": 182,
   "id": "51bd3baa",
   "metadata": {},
   "outputs": [
    {
     "name": "stdout",
     "output_type": "stream",
     "text": [
      "Ola 9\n",
      "Swiggy 7\n",
      "UrbanClap 6\n",
      "Paytm 6\n",
      "Oyo 6\n"
     ]
    }
   ],
   "source": [
    "# continued from question 6\n",
    "startup_rounds = df_start['StartupName'].value_counts()[0:5]\n",
    "\n",
    "for index, values in startup_rounds.iteritems():\n",
    "     print(index, values)"
   ]
  },
  {
   "cell_type": "markdown",
   "id": "1202f9fd",
   "metadata": {},
   "source": [
    "#### 8. Find the Investors who have invested maximum number of times. Print the investor name and number of times invested as integer value.\n",
    "#### Note: In startup, multiple investors might have invested. So consider each investor for that startup. Ignore the undisclosed investors."
   ]
  },
  {
   "cell_type": "code",
   "execution_count": 276,
   "id": "ed9b4dbf",
   "metadata": {},
   "outputs": [
    {
     "name": "stdout",
     "output_type": "stream",
     "text": [
      "Sequoia Capital 64\n"
     ]
    }
   ],
   "source": [
    "df_inv = df_startups.copy()\n",
    "#df_inv['InvestorsName'].isnull().sum()\n",
    "df_inv = df_inv[df_inv['InvestorsName'].notna()]\n",
    "\n",
    "df_inv = df_inv[(df_inv['InvestorsName'] != 'Undisclosed Investors') & (df_inv['InvestorsName'] != 'Undisclosed investors')\n",
    "               & (df_inv['InvestorsName'] != 'undisclosed investors') & (df_inv['InvestorsName'] != 'undisclosed Investors')]\n",
    "\n",
    "investors= df_inv['InvestorsName']\n",
    "investors = investors.values\n",
    "\n",
    "investor_count = {}\n",
    "\n",
    "for i in investors:\n",
    "    if ',' not in i:\n",
    "        if i in investor_count:\n",
    "            investor_count[i] = investor_count.get(i) + 1\n",
    "        else:\n",
    "            investor_count[i] = 1\n",
    "    else:\n",
    "        string = i.strip().split(',')\n",
    "        for j in string:\n",
    "            if j.strip() in investor_count:\n",
    "                investor_count[j.strip()] = investor_count.get(j.strip()) + 1\n",
    "            else:\n",
    "                investor_count[j.strip()] = 1\n",
    "\n",
    "investor_count_df = pd.DataFrame(list(investor_count.values()), list(investor_count.keys()))\n",
    "investor_count_df = investor_count_df.sort_values(by= [0], ascending = False)\n",
    "print(investor_count_df.index[0], investor_count_df.values[0][0])"
   ]
  }
 ],
 "metadata": {
  "kernelspec": {
   "display_name": "Python 3",
   "language": "python",
   "name": "python3"
  },
  "language_info": {
   "codemirror_mode": {
    "name": "ipython",
    "version": 3
   },
   "file_extension": ".py",
   "mimetype": "text/x-python",
   "name": "python",
   "nbconvert_exporter": "python",
   "pygments_lexer": "ipython3",
   "version": "3.7.4"
  }
 },
 "nbformat": 4,
 "nbformat_minor": 5
}

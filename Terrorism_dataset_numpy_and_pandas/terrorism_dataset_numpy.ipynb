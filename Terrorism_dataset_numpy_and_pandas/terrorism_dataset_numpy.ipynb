{
 "cells": [
  {
   "cell_type": "code",
   "execution_count": 43,
   "id": "5a180a01",
   "metadata": {},
   "outputs": [],
   "source": [
    "import csv\n",
    "import numpy as np"
   ]
  },
  {
   "cell_type": "markdown",
   "id": "633f424f",
   "metadata": {},
   "source": [
    "#### 1. Find the total number of people killed  in 'United States'. Some columns of killed are empty so replace them by 0."
   ]
  },
  {
   "cell_type": "code",
   "execution_count": 21,
   "id": "91146677",
   "metadata": {},
   "outputs": [
    {
     "name": "stdout",
     "output_type": "stream",
     "text": [
      "3771\n"
     ]
    }
   ],
   "source": [
    "killed_us = []\n",
    "with open('/Users/Sneha/Desktop/terrorismData.csv') as file_obj:\n",
    "    file_data = csv.DictReader(file_obj)\n",
    "    file_data = list(file_data)\n",
    "\n",
    "for row in file_data:\n",
    "    if row['Country'] == 'United States':\n",
    "        killed_us.append(row['Killed'])\n",
    "        \n",
    "np_killed = np.array(killed_us)\n",
    "np_killed[np_killed == ''] = 0\n",
    "\n",
    "np_killed = np.array(np_killed, dtype = float)\n",
    "\n",
    "print(int(np.sum(np_killed)))"
   ]
  },
  {
   "cell_type": "markdown",
   "id": "1b31a6d7",
   "metadata": {},
   "source": [
    "#### 2. Find the number of attacks held between day 10 and day 20. \n",
    "#### (ignoring the year and month)(including both day). Print count of NumberOFAttack as integer value."
   ]
  },
  {
   "cell_type": "code",
   "execution_count": 35,
   "id": "f3254a64",
   "metadata": {},
   "outputs": [
    {
     "data": {
      "text/plain": [
       "66330"
      ]
     },
     "execution_count": 35,
     "metadata": {},
     "output_type": "execute_result"
    }
   ],
   "source": [
    "days = []\n",
    "with open('/Users/Sneha/Desktop/terrorismData.csv') as file_obj:\n",
    "    file_data = csv.DictReader(file_obj)\n",
    "    file_data = list(file_data)\n",
    "\n",
    "for row in file_data:\n",
    "    days.append(row['Day'])\n",
    "\n",
    "np_days = np.array(days, dtype = int)\n",
    "np_days = np_days[(np_days>=10) & (np_days<= 20 )]\n",
    "\n",
    "np_days.shape[0]"
   ]
  },
  {
   "cell_type": "markdown",
   "id": "f4f3edc4",
   "metadata": {},
   "source": [
    "#### 3. Find the number of attack held between 1 Jan 2010 and 31 Jan 2010?(including both date). Ignore the case where day is 0."
   ]
  },
  {
   "cell_type": "code",
   "execution_count": 49,
   "id": "2a41c260",
   "metadata": {},
   "outputs": [
    {
     "data": {
      "text/plain": [
       "271"
      ]
     },
     "execution_count": 49,
     "metadata": {},
     "output_type": "execute_result"
    }
   ],
   "source": [
    "attacks = []\n",
    "with open('/Users/Sneha/Desktop/terrorismData.csv') as file_obj:\n",
    "    file_data = csv.DictReader(file_obj)\n",
    "    file_data = list(file_data)\n",
    "    \n",
    "for row in file_data:\n",
    "    if row['Year'] == '2010':\n",
    "        attacks.append([row['Day'], row['Month']])\n",
    "        \n",
    "np_attacks = np.array(attacks, dtype = int)\n",
    "\n",
    "np_attacks = np_attacks[np_attacks[:,1] == 1]\n",
    "np_attacks = np_attacks[np_attacks[:,0] != 0]\n",
    "\n",
    "np_attacks.shape[0]"
   ]
  },
  {
   "cell_type": "markdown",
   "id": "e42533bc",
   "metadata": {},
   "source": [
    "#### 4. The Kargil War ( in Jammu and Kashmir) took place between May 1999 and July 1999 (3 Months). \n",
    "#### Find out the attack in this period in the state of Jammu and Kashmir which had maximum casualties. Print the count of casualties (as integer), city in which that attack happened and name of attack group.\n",
    "#### Note : Casualty = Killed + Wounded. Fill the empty value in killed or wounded feature to 0."
   ]
  },
  {
   "cell_type": "code",
   "execution_count": 82,
   "id": "32387c39",
   "metadata": {},
   "outputs": [
    {
     "name": "stdout",
     "output_type": "stream",
     "text": [
      "Casualty: 22,City: Kargil District, Group: Separatists\n"
     ]
    }
   ],
   "source": [
    "casualty = []\n",
    "city_group= []\n",
    "with open('/Users/Sneha/Desktop/terrorismData.csv') as file_obj:\n",
    "    file_data = csv.DictReader(file_obj)\n",
    "    file_data = list(file_data)\n",
    "\n",
    "for row in file_data:\n",
    "    if row['State'] == 'Jammu and Kashmir' and row['Year'] == '1999':\n",
    "        if row['Month'] == '5' or row['Month'] == '6' or row['Month'] == '7': \n",
    "            casualty.append([row['Killed'], row['Wounded']])\n",
    "            city_group.append([row['City'], row['Group']])\n",
    "\n",
    "np_casualty = np.array(casualty)\n",
    "np_casualty[np_casualty == ''] = 0.0\n",
    "np_casualty = np.array(np_casualty, dtype = float)\n",
    "\n",
    "np_casualty = np.sum(np_casualty, axis = 1)\n",
    "\n",
    "#index with max casualty\n",
    "index = np.argmax(np_casualty)\n",
    "\n",
    "np_city_group = np.array(city_group)\n",
    "\n",
    "print(f\"Casualty: {int(np_casualty[index])},City: {np_city_group[index][0]}, Group: {np_city_group[index][1]}\")\n"
   ]
  },
  {
   "cell_type": "markdown",
   "id": "fe0cf7a5",
   "metadata": {},
   "source": [
    "#### 5. Find the casualty in the Red Corridor States in India.  Mainly Red corridor states include Jharkhand, Odisha, Andhra Pradesh, and Chhattisgarh. Note: Casualty=Killed +Wounded. Print count of casualty as integer value."
   ]
  },
  {
   "cell_type": "code",
   "execution_count": 92,
   "id": "904e436f",
   "metadata": {},
   "outputs": [
    {
     "name": "stdout",
     "output_type": "stream",
     "text": [
      "3110\n"
     ]
    }
   ],
   "source": [
    "casualty = []\n",
    "with open('/Users/Sneha/Desktop/terrorismData.csv') as file_obj:\n",
    "    file_data = csv.DictReader(file_obj)\n",
    "    file_data = list(file_data)\n",
    "\n",
    "for row in file_data:\n",
    "    if row['State']=='Jharkhand' or row['State']=='Odisha' or row['State']=='Andhra Pradesh' or row['State']=='Chattisgarh':\n",
    "        casualty.append([row['Killed'], row['Wounded']])\n",
    "\n",
    "np_casualty = np.array(casualty)\n",
    "np_casualty[np_casualty==''] = 0.0\n",
    "\n",
    "np_casualty = np.array(np_casualty, dtype = float)\n",
    "\n",
    "np_casualty = np.sum(np_casualty, axis = 1)\n",
    "\n",
    "total = np.sum(np_casualty)\n",
    "print(int(total))\n",
    "\n"
   ]
  },
  {
   "cell_type": "markdown",
   "id": "4ece47f5",
   "metadata": {},
   "source": [
    "#### 6. Find top 5 Indian Cities which has most number of casualties. Print top 5 cities along with total casualties in that city. Print count of Casualty as integer value. Note: Ignore the City which is Unknown. Casualty = Killed + Wounded."
   ]
  },
  {
   "cell_type": "code",
   "execution_count": 68,
   "id": "f7af9427",
   "metadata": {},
   "outputs": [
    {
     "name": "stdout",
     "output_type": "stream",
     "text": [
      "[('Srinagar', 3134), ('New Delhi', 2095), ('Mumbai', 2016), ('Jammu', 1119), ('Guwahati', 822)]\n"
     ]
    }
   ],
   "source": [
    "casualties = []\n",
    "cities = []\n",
    "arr_cities = []\n",
    "cities_total = {}\n",
    "\n",
    "with open('/Users/Sneha/Desktop/terrorismData.csv') as file_obj:\n",
    "    file_data = csv.DictReader(file_obj)\n",
    "    file_data = list(file_data)\n",
    "    \n",
    "for row in file_data:\n",
    "    if row['Country'] == 'India':\n",
    "        casualties.append([row['Killed'], row['Wounded']])\n",
    "        cities.append(row['City'])\n",
    "    \n",
    "np_casualties = np.array(casualties)\n",
    "np_casualties[np_casualties==''] = 0.0\n",
    "np_casualties = np.array(np_casualties, dtype = float)\n",
    "np_casualties = np.sum(np_casualties, axis = 1)\n",
    "\n",
    "np_cities = np.array(cities)\n",
    "\n",
    "cities_casualties = list(zip(np_cities,np_casualties))\n",
    "\n",
    "for row in cities_casualties:\n",
    "    if row[0] != 'Unknown':\n",
    "        arr_cities.append(row)\n",
    "\n",
    "for key,value in arr_cities:\n",
    "    cities_total[key] = cities_total.get(key,0) + int(value)\n",
    "\n",
    "sorted_cities_total = sorted(cities_total.items(), key=lambda x: x[1], reverse = True)\n",
    "\n",
    "print(sorted_cities_total[:5])"
   ]
  },
  {
   "cell_type": "markdown",
   "id": "6cd72d11",
   "metadata": {},
   "source": [
    "#### 7. Find the most frequent day of attack in the terrorismDataset. Note: Here np.unique can be used. Print count of frequent day and number of attack as Integer value."
   ]
  },
  {
   "cell_type": "code",
   "execution_count": 84,
   "id": "417863de",
   "metadata": {},
   "outputs": [
    {
     "name": "stdout",
     "output_type": "stream",
     "text": [
      "15 6500\n"
     ]
    }
   ],
   "source": [
    "day = []\n",
    "with open('/Users/Sneha/Desktop/terrorismData.csv') as file_obj:\n",
    "    file_data = csv.DictReader(file_obj)\n",
    "    file_data = list(file_data)\n",
    "    \n",
    "for row in file_data:\n",
    "    day.append(row['Day'])\n",
    "\n",
    "np_day = np.array(day)\n",
    "\n",
    "unique_days,ind, counts = np.unique(np_day, return_index = True, return_counts = True, )\n",
    "index = counts.argmax()\n",
    "\n",
    "print(unique_days[index], counts[index])"
   ]
  }
 ],
 "metadata": {
  "kernelspec": {
   "display_name": "Python 3",
   "language": "python",
   "name": "python3"
  },
  "language_info": {
   "codemirror_mode": {
    "name": "ipython",
    "version": 3
   },
   "file_extension": ".py",
   "mimetype": "text/x-python",
   "name": "python",
   "nbconvert_exporter": "python",
   "pygments_lexer": "ipython3",
   "version": "3.7.4"
  }
 },
 "nbformat": 4,
 "nbformat_minor": 5
}

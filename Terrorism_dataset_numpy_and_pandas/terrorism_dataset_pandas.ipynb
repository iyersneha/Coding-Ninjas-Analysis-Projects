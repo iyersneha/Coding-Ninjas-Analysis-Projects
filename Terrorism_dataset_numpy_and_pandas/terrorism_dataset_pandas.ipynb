{
 "cells": [
  {
   "cell_type": "code",
   "execution_count": 43,
   "id": "d583bc72",
   "metadata": {},
   "outputs": [],
   "source": [
    "import pandas as pd\n",
    "import numpy as np"
   ]
  },
  {
   "cell_type": "code",
   "execution_count": 24,
   "id": "d9f489a2",
   "metadata": {},
   "outputs": [
    {
     "data": {
      "text/html": [
       "<div>\n",
       "<style scoped>\n",
       "    .dataframe tbody tr th:only-of-type {\n",
       "        vertical-align: middle;\n",
       "    }\n",
       "\n",
       "    .dataframe tbody tr th {\n",
       "        vertical-align: top;\n",
       "    }\n",
       "\n",
       "    .dataframe thead th {\n",
       "        text-align: right;\n",
       "    }\n",
       "</style>\n",
       "<table border=\"1\" class=\"dataframe\">\n",
       "  <thead>\n",
       "    <tr style=\"text-align: right;\">\n",
       "      <th></th>\n",
       "      <th>Year</th>\n",
       "      <th>Month</th>\n",
       "      <th>Day</th>\n",
       "      <th>Country</th>\n",
       "      <th>State</th>\n",
       "      <th>Region</th>\n",
       "      <th>City</th>\n",
       "      <th>Latitude</th>\n",
       "      <th>Longitude</th>\n",
       "      <th>AttackType</th>\n",
       "      <th>Killed</th>\n",
       "      <th>Wounded</th>\n",
       "      <th>Target</th>\n",
       "      <th>Summary</th>\n",
       "      <th>Group</th>\n",
       "      <th>Target_type</th>\n",
       "      <th>Weapon_type</th>\n",
       "    </tr>\n",
       "  </thead>\n",
       "  <tbody>\n",
       "    <tr>\n",
       "      <th>0</th>\n",
       "      <td>1970</td>\n",
       "      <td>7</td>\n",
       "      <td>2</td>\n",
       "      <td>Dominican Republic</td>\n",
       "      <td>NaN</td>\n",
       "      <td>Central America &amp; Caribbean</td>\n",
       "      <td>Santo Domingo</td>\n",
       "      <td>18.456792</td>\n",
       "      <td>-69.951164</td>\n",
       "      <td>Assassination</td>\n",
       "      <td>1.0</td>\n",
       "      <td>0.0</td>\n",
       "      <td>Julio Guzman</td>\n",
       "      <td>NaN</td>\n",
       "      <td>MANO-D</td>\n",
       "      <td>Private Citizens &amp; Property</td>\n",
       "      <td>Unknown</td>\n",
       "    </tr>\n",
       "    <tr>\n",
       "      <th>1</th>\n",
       "      <td>1970</td>\n",
       "      <td>0</td>\n",
       "      <td>0</td>\n",
       "      <td>Mexico</td>\n",
       "      <td>Federal</td>\n",
       "      <td>North America</td>\n",
       "      <td>Mexico city</td>\n",
       "      <td>19.371887</td>\n",
       "      <td>-99.086624</td>\n",
       "      <td>Hostage Taking (Kidnapping)</td>\n",
       "      <td>0.0</td>\n",
       "      <td>0.0</td>\n",
       "      <td>Nadine Chaval, daughter</td>\n",
       "      <td>NaN</td>\n",
       "      <td>23rd of September Communist League</td>\n",
       "      <td>Government (Diplomatic)</td>\n",
       "      <td>Unknown</td>\n",
       "    </tr>\n",
       "    <tr>\n",
       "      <th>2</th>\n",
       "      <td>1970</td>\n",
       "      <td>1</td>\n",
       "      <td>0</td>\n",
       "      <td>Philippines</td>\n",
       "      <td>Tarlac</td>\n",
       "      <td>Southeast Asia</td>\n",
       "      <td>Unknown</td>\n",
       "      <td>15.478598</td>\n",
       "      <td>120.599741</td>\n",
       "      <td>Assassination</td>\n",
       "      <td>1.0</td>\n",
       "      <td>0.0</td>\n",
       "      <td>Employee</td>\n",
       "      <td>NaN</td>\n",
       "      <td>Unknown</td>\n",
       "      <td>Journalists &amp; Media</td>\n",
       "      <td>Unknown</td>\n",
       "    </tr>\n",
       "    <tr>\n",
       "      <th>3</th>\n",
       "      <td>1970</td>\n",
       "      <td>1</td>\n",
       "      <td>0</td>\n",
       "      <td>Greece</td>\n",
       "      <td>Attica</td>\n",
       "      <td>Western Europe</td>\n",
       "      <td>Athens</td>\n",
       "      <td>37.997490</td>\n",
       "      <td>23.762728</td>\n",
       "      <td>Bombing/Explosion</td>\n",
       "      <td>NaN</td>\n",
       "      <td>NaN</td>\n",
       "      <td>U.S. Embassy</td>\n",
       "      <td>NaN</td>\n",
       "      <td>Unknown</td>\n",
       "      <td>Government (Diplomatic)</td>\n",
       "      <td>Explosives</td>\n",
       "    </tr>\n",
       "    <tr>\n",
       "      <th>4</th>\n",
       "      <td>1970</td>\n",
       "      <td>1</td>\n",
       "      <td>0</td>\n",
       "      <td>Japan</td>\n",
       "      <td>Fukouka</td>\n",
       "      <td>East Asia</td>\n",
       "      <td>Fukouka</td>\n",
       "      <td>33.580412</td>\n",
       "      <td>130.396361</td>\n",
       "      <td>Facility/Infrastructure Attack</td>\n",
       "      <td>NaN</td>\n",
       "      <td>NaN</td>\n",
       "      <td>U.S. Consulate</td>\n",
       "      <td>NaN</td>\n",
       "      <td>Unknown</td>\n",
       "      <td>Government (Diplomatic)</td>\n",
       "      <td>Incendiary</td>\n",
       "    </tr>\n",
       "  </tbody>\n",
       "</table>\n",
       "</div>"
      ],
      "text/plain": [
       "   Year  Month  Day             Country    State                       Region  \\\n",
       "0  1970      7    2  Dominican Republic      NaN  Central America & Caribbean   \n",
       "1  1970      0    0              Mexico  Federal                North America   \n",
       "2  1970      1    0         Philippines   Tarlac               Southeast Asia   \n",
       "3  1970      1    0              Greece   Attica               Western Europe   \n",
       "4  1970      1    0               Japan  Fukouka                    East Asia   \n",
       "\n",
       "            City   Latitude   Longitude                      AttackType  \\\n",
       "0  Santo Domingo  18.456792  -69.951164                   Assassination   \n",
       "1    Mexico city  19.371887  -99.086624     Hostage Taking (Kidnapping)   \n",
       "2        Unknown  15.478598  120.599741                   Assassination   \n",
       "3         Athens  37.997490   23.762728               Bombing/Explosion   \n",
       "4        Fukouka  33.580412  130.396361  Facility/Infrastructure Attack   \n",
       "\n",
       "   Killed  Wounded                   Target Summary  \\\n",
       "0     1.0      0.0             Julio Guzman     NaN   \n",
       "1     0.0      0.0  Nadine Chaval, daughter     NaN   \n",
       "2     1.0      0.0                 Employee     NaN   \n",
       "3     NaN      NaN             U.S. Embassy     NaN   \n",
       "4     NaN      NaN           U.S. Consulate     NaN   \n",
       "\n",
       "                                Group                  Target_type Weapon_type  \n",
       "0                              MANO-D  Private Citizens & Property     Unknown  \n",
       "1  23rd of September Communist League      Government (Diplomatic)     Unknown  \n",
       "2                             Unknown          Journalists & Media     Unknown  \n",
       "3                             Unknown      Government (Diplomatic)  Explosives  \n",
       "4                             Unknown      Government (Diplomatic)  Incendiary  "
      ]
     },
     "execution_count": 24,
     "metadata": {},
     "output_type": "execute_result"
    }
   ],
   "source": [
    "df_terrorism = pd.read_csv('/Users/Sneha/Desktop/terrorismData.csv')\n",
    "#display(df_terrorism)\n",
    "df_terrorism.head()"
   ]
  },
  {
   "cell_type": "markdown",
   "id": "f468b1a8",
   "metadata": {},
   "source": [
    "#### 1. Find the most dangerous city in Jammu and Kashmir and the terrorist group which is most active in that city. Print count of number of attacks in that city as integer value. Note:Ignoring the Unknown Terrorist Group. Here dangerous is related with the number of terrorist attacks."
   ]
  },
  {
   "cell_type": "code",
   "execution_count": 4,
   "id": "15e0e68a",
   "metadata": {},
   "outputs": [
    {
     "name": "stdout",
     "output_type": "stream",
     "text": [
      "City: Srinagar, Attack: 657, Group: Muslim Separatists\n"
     ]
    }
   ],
   "source": [
    "df_state = df_terrorism[df_terrorism['State'] == 'Jammu and Kashmir']\n",
    "city_list = df_state['City'].value_counts()\n",
    "city = city_list.index[0]  #city \n",
    "attack = city_list.values[0] #count\n",
    "\n",
    "df_state = df_state[df_state['City'] == city]\n",
    "group = df_state['Group'].value_counts().index[1]\n",
    "print(f\"City: {city}, Attack: {attack}, Group: {group}\")"
   ]
  },
  {
   "cell_type": "markdown",
   "id": "6c3bc435",
   "metadata": {},
   "source": [
    "#### 2. New government in India was formed on 26 May 2014. So current government's span is from 26th May 2014 to current. Find out two things from this period-\n",
    "#### i. . Total number of attacks done in this period in India. Find this count as integer.\n",
    "#### ii. Which Terrorist group was most active in this period in India. Most active means, group which has done maximum number of attacks.\n",
    "#### iii. Ignore the Unknown group. "
   ]
  },
  {
   "cell_type": "code",
   "execution_count": 82,
   "id": "86c74646",
   "metadata": {},
   "outputs": [
    {
     "name": "stdout",
     "output_type": "stream",
     "text": [
      "Total no. of attacks: 3336, Group: Maoists\n"
     ]
    }
   ],
   "source": [
    "df_gov = df_terrorism[df_terrorism['Country'] == 'India']\n",
    "df_gov = df_gov[df_gov['Year'] >= 2014]\n",
    "ind_month = df_gov[(df_gov['Year']== 2014) & (df_gov['Month'] < 5)].index\n",
    "ind_day = df_gov[(df_gov['Year'] == 2014) & (df_gov['Month'] == 5) & (df_gov['Day'] < 26)].index\n",
    "\n",
    "df_gov.drop(ind_month, inplace = True)\n",
    "df_gov.drop(ind_day, inplace = True)\n",
    "\n",
    "total_attacks_in_india = df_gov.shape[0]\n",
    "group = df_gov['Group'].value_counts().index[1]\n",
    "\n",
    "print(f\"Total no. of attacks: {total_attacks_in_india}, Group: {group}\")"
   ]
  },
  {
   "cell_type": "markdown",
   "id": "e80923fa",
   "metadata": {},
   "source": [
    "#### 3. Find the frequency of the Casualty in Red Corridor states and in Jammu and Kashmir ?Here Frequency is (Total Casualty/Total Number of  years).  Print frequency as integer value.\n",
    "#### Note:Red Corridor states include Jharkhand, Odisha, Andhra Pradesh, and Chhattisgarh. Here Casualty=Killed +Wounded.Don't fill the nan value present in Killed and Wounded feature."
   ]
  },
  {
   "cell_type": "code",
   "execution_count": 55,
   "id": "a8e768a9",
   "metadata": {},
   "outputs": [
    {
     "name": "stdout",
     "output_type": "stream",
     "text": [
      "395 97\n"
     ]
    }
   ],
   "source": [
    "df_red_jk = df_terrorism[df_terrorism['Country'] == 'India']\n",
    "df_red_jk.loc[:,'Casualty'] = df_red_jk['Killed'] + df_red_jk['Wounded']\n",
    "#df_red_jk.head()\n",
    "jandk = df_red_jk[df_red_jk['State'] == 'Jammu and Kashmir']\n",
    "red_states= df_red_jk[(df_red_jk['State'] == 'Jharkhand') | (df_red_jk['State'] == 'Odisha') | \n",
    "                      (df_red_jk['State'] == 'Andhra Pradesh') | (df_red_jk['State'] == 'Chattisgarh')]\n",
    "\n",
    "jandk_casualty = int(np.sum(jandk['Casualty']))\n",
    "red_casualty = int(np.sum(red_states['Casualty']))\n",
    "\n",
    "years_jandk = len(pd.unique(jandk['Year']))\n",
    "years_red = len(pd.unique(red_states['Year']))\n",
    "\n",
    "print(jandk_casualty//years_jandk,red_casualty // years_red)\n"
   ]
  },
  {
   "cell_type": "markdown",
   "id": "a930e5f7",
   "metadata": {},
   "source": [
    "#### 4. Find the most deadliest attack in the history of humankind. Print count of Killed people as integer value. Note: Here deadliest attack means, in which most number of people were killed. Print as NumberOfPeopleKilled Country TerroristGroup"
   ]
  },
  {
   "cell_type": "code",
   "execution_count": 69,
   "id": "68fa54b3",
   "metadata": {},
   "outputs": [
    {
     "name": "stdout",
     "output_type": "stream",
     "text": [
      "Killed: 1570, Group: Islamic State of Iraq and the Levant (ISIL), Country: Iraq\n"
     ]
    }
   ],
   "source": [
    "max_killed = max(df_terrorism['Killed'])\n",
    "group = df_terrorism[df_terrorism['Killed'] == max_killed]['Group'].values[0]\n",
    "country = df_terrorism[df_terrorism['Killed'] == max_killed]['Country'].values[0]\n",
    "\n",
    "print(f\"Killed: {int(max_killed)}, Group: {group}, Country: {country}\")"
   ]
  },
  {
   "cell_type": "markdown",
   "id": "13f6a470",
   "metadata": {},
   "source": [
    "#### 5. Find out the Country with Highest Number of Terror Attack and in which year the most number of terrorist attack happened in that country. Print count of terror attacks as integer value. Print as Country NumberOfAttacks Year"
   ]
  },
  {
   "cell_type": "code",
   "execution_count": 81,
   "id": "bbb68d3e",
   "metadata": {},
   "outputs": [
    {
     "name": "stdout",
     "output_type": "stream",
     "text": [
      "Country: Iraq, NumberOfAttacks: 24636, Year: 2014\n"
     ]
    }
   ],
   "source": [
    "countries = df_terrorism['Country'].value_counts()\n",
    "country = countries.index[0]\n",
    "attacks = countries.values[0]\n",
    "\n",
    "df_country = df_terrorism[df_terrorism['Country'] == country]\n",
    "years = df_country['Year'].value_counts().index[0]\n",
    "\n",
    "print(f\"Country: {country}, NumberOfAttacks: {attacks}, Year: {years}\")"
   ]
  }
 ],
 "metadata": {
  "kernelspec": {
   "display_name": "Python 3",
   "language": "python",
   "name": "python3"
  },
  "language_info": {
   "codemirror_mode": {
    "name": "ipython",
    "version": 3
   },
   "file_extension": ".py",
   "mimetype": "text/x-python",
   "name": "python",
   "nbconvert_exporter": "python",
   "pygments_lexer": "ipython3",
   "version": "3.7.4"
  }
 },
 "nbformat": 4,
 "nbformat_minor": 5
}

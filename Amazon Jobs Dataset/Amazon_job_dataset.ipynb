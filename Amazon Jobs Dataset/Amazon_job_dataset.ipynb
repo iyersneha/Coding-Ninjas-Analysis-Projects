{
 "cells": [
  {
   "cell_type": "code",
   "execution_count": 13,
   "id": "cb4cca7f",
   "metadata": {},
   "outputs": [],
   "source": [
    "import csv"
   ]
  },
  {
   "cell_type": "markdown",
   "id": "e1c1daba",
   "metadata": {},
   "source": [
    "#### 1. Find the number of job openings in Bangalore, IN and Seattle, US. Print the job openings as integer values. "
   ]
  },
  {
   "cell_type": "code",
   "execution_count": 18,
   "id": "87489877",
   "metadata": {},
   "outputs": [
    {
     "data": {
      "text/plain": [
       "(66, 1856)"
      ]
     },
     "execution_count": 18,
     "metadata": {},
     "output_type": "execute_result"
    }
   ],
   "source": [
    "Bangalore_openings = 0\n",
    "Seattle_openings = 0\n",
    "\n",
    "with open('/Users/Sneha/Desktop/amazon_jobs_dataset.csv') as file_obj:\n",
    "    file_data = csv.reader(file_obj)\n",
    "    file_data = list(file_data)\n",
    "\n",
    "for row in file_data[1:]:\n",
    "    if 'Bangalore' in row[2]:\n",
    "        Bangalore_openings += 1\n",
    "    if 'Seattle' in row[2]:\n",
    "        Seattle_openings += 1\n",
    "    \n",
    "\n",
    "Bangalore_openings, Seattle_openings\n"
   ]
  },
  {
   "cell_type": "markdown",
   "id": "57854218",
   "metadata": {},
   "source": [
    "#### 2. Find the total number of jobs related to computer vision. Print the count as integer value."
   ]
  },
  {
   "cell_type": "code",
   "execution_count": 20,
   "id": "103861df",
   "metadata": {},
   "outputs": [
    {
     "data": {
      "text/plain": [
       "14"
      ]
     },
     "execution_count": 20,
     "metadata": {},
     "output_type": "execute_result"
    }
   ],
   "source": [
    "computer_vision_jobs = 0\n",
    "\n",
    "with open('/Users/Sneha/Desktop/amazon_jobs_dataset.csv') as file_obj:\n",
    "    file_data = csv.reader(file_obj)\n",
    "    file_data = list(file_data)\n",
    "\n",
    "for row in file_data[1:]:\n",
    "    if 'Computer Vision' in row[1]:\n",
    "        computer_vision_jobs += 1\n",
    "\n",
    "computer_vision_jobs"
   ]
  },
  {
   "cell_type": "markdown",
   "id": "ed9f539c",
   "metadata": {},
   "source": [
    "#### 3. Find the number of job openings in Canada. Print the count as integer value. "
   ]
  },
  {
   "cell_type": "code",
   "execution_count": 24,
   "id": "8766b033",
   "metadata": {},
   "outputs": [
    {
     "data": {
      "text/plain": [
       "156"
      ]
     },
     "execution_count": 24,
     "metadata": {},
     "output_type": "execute_result"
    }
   ],
   "source": [
    "canada_jobs = 0\n",
    "\n",
    "with open('/Users/Sneha/Desktop/amazon_jobs_dataset.csv') as file_obj:\n",
    "    file_data = csv.reader(file_obj)\n",
    "    file_data = list(file_data)\n",
    "\n",
    "for row in file_data[1:]:\n",
    "    if row[2].split(',')[0] == 'CA':\n",
    "        canada_jobs += 1\n",
    "canada_jobs"
   ]
  },
  {
   "cell_type": "markdown",
   "id": "fe5b76c0",
   "metadata": {},
   "source": [
    "#### 4. Find the month having most job openings in 2018. Print the month name and job openings as integer value. "
   ]
  },
  {
   "cell_type": "code",
   "execution_count": 61,
   "id": "75ab789d",
   "metadata": {},
   "outputs": [
    {
     "name": "stdout",
     "output_type": "stream",
     "text": [
      "January 907\n"
     ]
    }
   ],
   "source": [
    "post_date = []\n",
    "month_openings = {}\n",
    "with open('/Users/Sneha/Desktop/amazon_jobs_dataset.csv') as file_obj:\n",
    "    file_data = csv.DictReader(file_obj)\n",
    "    file_data = list(file_data)\n",
    "\n",
    "#get all the job posting dates for 2018\n",
    "for row in file_data[1:]:\n",
    "    if row['Posting_date'].split(',')[1] == ' 2018':\n",
    "        post_date.append(row['Posting_date'])\n",
    "\n",
    "# get all the job posting months in 2018\n",
    "post_date = [i.split()[0] for i in post_date]\n",
    "\n",
    "#count the month and the no of times it occures\n",
    "month_openings= {month:post_date.count(month) for month in post_date}\n",
    "\n",
    "month = max(month_openings, key = month_openings.get)\n",
    "print(month, month_openings[month])"
   ]
  },
  {
   "cell_type": "markdown",
   "id": "f167a69b",
   "metadata": {},
   "source": [
    "#### 5. Find the number of job openings that require a bachelor's degree. Keywords that can be used are 'Bachelor', 'BS' and 'BA'."
   ]
  },
  {
   "cell_type": "code",
   "execution_count": 66,
   "id": "8747a29c",
   "metadata": {},
   "outputs": [
    {
     "data": {
      "text/plain": [
       "2960"
      ]
     },
     "execution_count": 66,
     "metadata": {},
     "output_type": "execute_result"
    }
   ],
   "source": [
    "qualifications = []\n",
    "\n",
    "with open('/Users/Sneha/Desktop/amazon_jobs_dataset.csv') as file_obj:\n",
    "    file_data = csv.DictReader(file_obj)\n",
    "    file_data = list(file_data)\n",
    "\n",
    "for row in file_data[1:]:\n",
    "    if 'Bachelor' in row['BASIC QUALIFICATIONS'] or 'BA' in row['BASIC QUALIFICATIONS'] or 'BS'in row['BASIC QUALIFICATIONS']:\n",
    "        qualifications.append(row['BASIC QUALIFICATIONS'])\n",
    "\n",
    "len(qualifications)\n",
    "    "
   ]
  },
  {
   "cell_type": "markdown",
   "id": "d45cbb36",
   "metadata": {},
   "source": [
    "#### 6. Find the country where Amazon needs the most number of Java Developers. Print the country and the number of job openings as integer value. Use the BASIC QUALIFICATIONS column to find out whether Java is required for the job or not."
   ]
  },
  {
   "cell_type": "code",
   "execution_count": 72,
   "id": "2a108dcb",
   "metadata": {},
   "outputs": [
    {
     "name": "stdout",
     "output_type": "stream",
     "text": [
      "US 2008\n"
     ]
    }
   ],
   "source": [
    "country_qualifications = []\n",
    "\n",
    "with open('/Users/Sneha/Desktop/amazon_jobs_dataset.csv') as file_obj:\n",
    "    file_data = csv.DictReader(file_obj)\n",
    "    file_data = list(file_data)\n",
    "\n",
    "for row in file_data[1:]:\n",
    "    if 'Java' in row['BASIC QUALIFICATIONS']:\n",
    "        country_qualifications.append(row['location'])\n",
    "\n",
    "country_qualifications = [i.split(',')[0] for i in country_qualifications]\n",
    "\n",
    "total_openings_country = {value:country_qualifications.count(value) for value in country_qualifications}\n",
    "\n",
    "total = max(total_openings_country, key = total_openings_country.get)\n",
    "\n",
    "print(total, total_openings_country[total])"
   ]
  },
  {
   "cell_type": "markdown",
   "id": "2d802177",
   "metadata": {},
   "source": [
    "#### 7. Among Java, C++ and Python which language has the most job openings in India for Bachelor's degree holder. Print the language(i.e Java,C++,Python) and number of job opening as integer value.\n",
    "#### Keywords that can be used are 'Bachelor', 'BS' and 'BA'. Keywords used for language searching are 'Java','C++' or 'Python'."
   ]
  },
  {
   "cell_type": "code",
   "execution_count": 93,
   "id": "a77d8ae9",
   "metadata": {},
   "outputs": [
    {
     "name": "stdout",
     "output_type": "stream",
     "text": [
      "Java 103\n"
     ]
    }
   ],
   "source": [
    "qualifications = []\n",
    "Java_openings = 0\n",
    "C_plus_plus_openings = 0\n",
    "Python_openings = 0\n",
    "\n",
    "languages = ['Java', 'C++', 'Python']\n",
    "\n",
    "\n",
    "with open('/Users/Sneha/Desktop/amazon_jobs_dataset.csv') as file_obj:\n",
    "    file_data = csv.DictReader(file_obj)\n",
    "    file_data = list(file_data)\n",
    "\n",
    "for row in file_data[1:]:\n",
    "    if row['location'].split(',')[0] == 'IN':\n",
    "        if 'Bachelor' in row['BASIC QUALIFICATIONS'] or 'BA' in row['BASIC QUALIFICATIONS'] or 'BS'in row['BASIC QUALIFICATIONS']:\n",
    "            qualifications.append(row['BASIC QUALIFICATIONS'])\n",
    "\n",
    "for i in qualifications:\n",
    "    if 'Java' in i:\n",
    "         Java_openings +=1\n",
    "    if 'C++' in i:\n",
    "         C_plus_plus_openings += 1\n",
    "    if 'Python' in i:\n",
    "         Python_openings += 1\n",
    "        \n",
    "language_count = {'Java':Java_openings, 'C++': C_plus_plus_openings, 'Python' : Python_openings}\n",
    "\n",
    "most_jobs = max(language_count, key = language_count.get)\n",
    "print(most_jobs, language_count[most_jobs])\n"
   ]
  }
 ],
 "metadata": {
  "kernelspec": {
   "display_name": "Python 3",
   "language": "python",
   "name": "python3"
  },
  "language_info": {
   "codemirror_mode": {
    "name": "ipython",
    "version": 3
   },
   "file_extension": ".py",
   "mimetype": "text/x-python",
   "name": "python",
   "nbconvert_exporter": "python",
   "pygments_lexer": "ipython3",
   "version": "3.7.4"
  }
 },
 "nbformat": 4,
 "nbformat_minor": 5
}

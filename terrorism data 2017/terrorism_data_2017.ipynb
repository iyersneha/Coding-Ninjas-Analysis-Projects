{
 "cells": [
  {
   "cell_type": "code",
   "execution_count": 2,
   "id": "2f965f56",
   "metadata": {},
   "outputs": [],
   "source": [
    "import csv"
   ]
  },
  {
   "cell_type": "markdown",
   "id": "07e68e8d",
   "metadata": {},
   "source": [
    "#### 1. Print the names of all columns."
   ]
  },
  {
   "cell_type": "code",
   "execution_count": 25,
   "id": "63d4edd6",
   "metadata": {},
   "outputs": [
    {
     "name": "stdout",
     "output_type": "stream",
     "text": [
      "Year\n",
      "Month\n",
      "Day\n",
      "Country\n",
      "Region\n",
      "city\n",
      "latitude\n",
      "longitude\n",
      "AttackType\n",
      "Killed\n",
      "Wounded\n",
      "Target\n",
      "Group\n",
      "Target_type\n",
      "Weapon_type\n",
      "casualities\n"
     ]
    }
   ],
   "source": [
    "with open ('/Users/Sneha/Desktop/year2017.csv') as file_obj:\n",
    "    file_data = csv.reader(file_obj)\n",
    "    column_names = next(file_data)\n",
    "\n",
    "for i in column_names:\n",
    "    print(i)\n",
    "\n"
   ]
  },
  {
   "cell_type": "markdown",
   "id": "9c855960",
   "metadata": {},
   "source": [
    "#### 2. Print the names of the Country for the first 10 rows."
   ]
  },
  {
   "cell_type": "code",
   "execution_count": 29,
   "id": "87aa4372",
   "metadata": {},
   "outputs": [
    {
     "name": "stdout",
     "output_type": "stream",
     "text": [
      "Afghanistan\n",
      "Sudan\n",
      "Democratic Republic of the Congo\n",
      "Democratic Republic of the Congo\n",
      "Turkey\n",
      "Syria\n",
      "Pakistan\n",
      "Italy\n",
      "Turkey\n",
      "Turkey\n"
     ]
    }
   ],
   "source": [
    "with open ('/Users/Sneha/Desktop/year2017.csv') as file_obj:\n",
    "    file_data = csv.reader(file_obj)\n",
    "    country_names = list(file_data)\n",
    "\n",
    "for i in range(1,11):\n",
    "    print(country_names[i][3])"
   ]
  },
  {
   "cell_type": "markdown",
   "id": "a494f3b3",
   "metadata": {},
   "source": [
    "#### 3. Find the total number of people killed in 2017."
   ]
  },
  {
   "cell_type": "code",
   "execution_count": 24,
   "id": "430f52eb",
   "metadata": {},
   "outputs": [
    {
     "name": "stdout",
     "output_type": "stream",
     "text": [
      "26445\n"
     ]
    }
   ],
   "source": [
    "with open ('/Users/Sneha/Desktop/year2017.csv') as file_obj:\n",
    "    file_data = csv.reader(file_obj, skipinitialspace = True)\n",
    "    file_list = list(file_data)\n",
    "\n",
    "killed = []\n",
    "\n",
    "for row in file_list[1:]:\n",
    "    value = row[9]\n",
    "    if value:\n",
    "        killed.append(float(value))\n",
    "print(int(sum(killed)))\n",
    "    "
   ]
  },
  {
   "cell_type": "markdown",
   "id": "df972709",
   "metadata": {},
   "source": [
    "#### 4. Find the total number of people wounded in 2017."
   ]
  },
  {
   "cell_type": "code",
   "execution_count": 34,
   "id": "33d5e1ea",
   "metadata": {},
   "outputs": [
    {
     "name": "stdout",
     "output_type": "stream",
     "text": [
      "24927\n"
     ]
    }
   ],
   "source": [
    "with open ('/Users/Sneha/Desktop/year2017.csv') as file_obj:\n",
    "    file_data = csv.reader(file_obj, skipinitialspace = True)\n",
    "    file_list = list(file_data)\n",
    "\n",
    "wounded = []\n",
    "\n",
    "for row in file_list[1:]:\n",
    "    value = row[10]\n",
    "    if value:\n",
    "        wounded.append(float(value))\n",
    "\n",
    "print(int(sum(wounded)))"
   ]
  },
  {
   "cell_type": "markdown",
   "id": "68d781db",
   "metadata": {},
   "source": [
    "#### 5. Find the total number of wounded people from India. "
   ]
  },
  {
   "cell_type": "code",
   "execution_count": 63,
   "id": "3cbd3aa0",
   "metadata": {},
   "outputs": [
    {
     "name": "stdout",
     "output_type": "stream",
     "text": [
      "702\n"
     ]
    }
   ],
   "source": [
    "with open ('/Users/Sneha/Desktop/year2017.csv') as file_obj:\n",
    "    file_data = csv.reader(file_obj, skipinitialspace = True)\n",
    "    file_data = list(file_data)\n",
    "\n",
    "\n",
    "wounded_india = []\n",
    "\n",
    "for row in file_list[1:]:\n",
    "    if row[3] == 'India':\n",
    "        value = row[10]\n",
    "        if value:\n",
    "            wounded_india.append(float(value))\n",
    "            \n",
    "print(int(sum(wounded_india)))\n",
    "            "
   ]
  },
  {
   "cell_type": "markdown",
   "id": "0090687f",
   "metadata": {},
   "source": [
    "#### 6. Find the total number of casualties with 'Explosives' as the weapon type."
   ]
  },
  {
   "cell_type": "code",
   "execution_count": 12,
   "id": "32e9cf9d",
   "metadata": {},
   "outputs": [
    {
     "name": "stdout",
     "output_type": "stream",
     "text": [
      "29280\n"
     ]
    }
   ],
   "source": [
    "with open ('/Users/Sneha/Desktop/year2017.csv') as file_obj:\n",
    "    file_data = csv.DictReader(file_obj, skipinitialspace = True)\n",
    "    file_data = list(file_data)\n",
    "    \n",
    "values = []\n",
    "\n",
    "for col in file_data:\n",
    "    if col ['Weapon_type'] == 'Explosives':\n",
    "        values.append(col['casualities'])\n",
    "\n",
    "values = list(filter(None,values))\n",
    "total_casualities = [float(i) for i in values]\n",
    "\n",
    "print(int(sum(total_casualities)))"
   ]
  },
  {
   "cell_type": "markdown",
   "id": "0751f3bc",
   "metadata": {},
   "source": [
    "#### 7. Number of people killed from each country. "
   ]
  },
  {
   "cell_type": "code",
   "execution_count": 22,
   "id": "47dbaa60",
   "metadata": {},
   "outputs": [
    {
     "data": {
      "text/plain": [
       "{'Afghanistan': 6092,\n",
       " 'Sudan': 82,\n",
       " 'Democratic Republic of the Congo': 596,\n",
       " 'Turkey': 222,\n",
       " 'Syria': 2026,\n",
       " 'Pakistan': 1076,\n",
       " 'Italy': 0,\n",
       " 'Somalia': 1912,\n",
       " 'Yemen': 762,\n",
       " 'Bahrain': 6,\n",
       " 'Myanmar': 218,\n",
       " 'Burundi': 20,\n",
       " 'Iraq': 6476,\n",
       " 'Egypt': 877,\n",
       " 'Burkina Faso': 53,\n",
       " 'India': 465,\n",
       " 'Algeria': 12,\n",
       " 'United States': 95,\n",
       " 'Philippines': 496,\n",
       " 'Greece': 0,\n",
       " 'Mali': 361,\n",
       " 'Libya': 289,\n",
       " 'Central African Republic': 601,\n",
       " 'Nigeria': 1805,\n",
       " 'Lebanon': 17,\n",
       " 'Mexico': 23,\n",
       " 'Cameroon': 228,\n",
       " 'Ethiopia': 67,\n",
       " 'Kyrgyzstan': 0,\n",
       " 'Serbia': 0,\n",
       " 'Sweden': 5,\n",
       " 'Thailand': 72,\n",
       " 'Iran': 39,\n",
       " 'France': 7,\n",
       " 'United Kingdom': 42,\n",
       " 'West Bank and Gaza Strip': 50,\n",
       " 'Ukraine': 40,\n",
       " 'Paraguay': 4,\n",
       " 'Colombia': 84,\n",
       " 'Malaysia': 4,\n",
       " 'Russia': 61,\n",
       " 'Kosovo': 0,\n",
       " 'South Africa': 21,\n",
       " 'Chile': 0,\n",
       " 'Kenya': 126,\n",
       " 'Israel': 3,\n",
       " 'Saudi Arabia': 31,\n",
       " 'China': 16,\n",
       " 'Nepal': 4,\n",
       " 'Ecuador': 0,\n",
       " 'Niger': 148,\n",
       " 'Venezuela': 5,\n",
       " 'South Sudan': 581,\n",
       " 'Canada': 6,\n",
       " 'Bangladesh': 25,\n",
       " 'Tajikistan': 1,\n",
       " 'Angola': 7,\n",
       " 'Ireland': 0,\n",
       " 'Peru': 8,\n",
       " 'Dominican Republic': 2,\n",
       " 'Poland': 0,\n",
       " 'Jordan': 4,\n",
       " 'Azerbaijan': 5,\n",
       " 'Mozambique': 22,\n",
       " 'Indonesia': 20,\n",
       " 'Germany': 1,\n",
       " 'Brazil': 0,\n",
       " 'Macedonia': 0,\n",
       " 'Tunisia': 5,\n",
       " 'Uganda': 7,\n",
       " 'Chad': 62,\n",
       " 'Finland': 2,\n",
       " 'Australia': 4,\n",
       " 'Norway': 0,\n",
       " 'Vietnam': 0,\n",
       " 'Tanzania': 8,\n",
       " 'Sierra Leone': 0,\n",
       " 'Sri Lanka': 1,\n",
       " 'Maldives': 1,\n",
       " 'Belgium': 2,\n",
       " 'Rwanda': 2,\n",
       " 'Honduras': 2,\n",
       " 'Czech Republic': 0,\n",
       " 'Malta': 1,\n",
       " 'Gabon': 0,\n",
       " 'Laos': 1,\n",
       " 'Djibouti': 0,\n",
       " 'Austria': 2,\n",
       " 'Zambia': 0,\n",
       " 'Argentina': 0,\n",
       " 'Papua New Guinea': 0,\n",
       " 'Zimbabwe': 0,\n",
       " 'Ivory Coast': 3,\n",
       " 'Spain': 21,\n",
       " 'Taiwan': 0,\n",
       " 'Jamaica': 0,\n",
       " 'Albania': 0,\n",
       " 'Liberia': 0,\n",
       " 'Georgia': 0,\n",
       " 'Malawi': 0,\n",
       " 'Netherlands': 0,\n",
       " 'Latvia': 0}"
      ]
     },
     "execution_count": 22,
     "metadata": {},
     "output_type": "execute_result"
    }
   ],
   "source": [
    "with open ('/Users/Sneha/Desktop/year2017.csv') as file_obj:\n",
    "    file_data = csv.DictReader(file_obj, skipinitialspace = True)\n",
    "    file_list = list(file_data)\n",
    "\n",
    "country_killed = {}\n",
    "\n",
    "for row in file_list:\n",
    "    key = row['Country']\n",
    "    value = row['Killed']\n",
    "\n",
    "    if value:\n",
    "        value = int(float(value))\n",
    "    else:\n",
    "        value = 0\n",
    "\n",
    "    if key in country_killed:\n",
    "        country_killed[key] += value\n",
    "    else:\n",
    "        country_killed[key] = value\n",
    "        \n",
    "country_killed"
   ]
  },
  {
   "cell_type": "markdown",
   "id": "533e4229",
   "metadata": {},
   "source": [
    "#### 8. Find the total number of people killed each month in 2017."
   ]
  },
  {
   "cell_type": "code",
   "execution_count": 23,
   "id": "4817c9f2",
   "metadata": {},
   "outputs": [
    {
     "data": {
      "text/plain": [
       "{'1': 2275,\n",
       " '2': 2027,\n",
       " '3': 2463,\n",
       " '4': 2142,\n",
       " '5': 2936,\n",
       " '6': 2506,\n",
       " '7': 2228,\n",
       " '8': 2145,\n",
       " '9': 1764,\n",
       " '10': 2580,\n",
       " '11': 2014,\n",
       " '12': 1365}"
      ]
     },
     "execution_count": 23,
     "metadata": {},
     "output_type": "execute_result"
    }
   ],
   "source": [
    "with open ('/Users/Sneha/Desktop/year2017.csv') as file_obj:\n",
    "    file_data = csv.DictReader(file_obj, skipinitialspace = True)\n",
    "    file_list = list(file_data)\n",
    "\n",
    "month_killed = {}\n",
    "\n",
    "for row in file_list:\n",
    "    key = row['Month']\n",
    "    value = row['Killed']\n",
    "    \n",
    "    if value:\n",
    "        value = int(float(value))\n",
    "    else:\n",
    "        value = 0\n",
    "    \n",
    "    if key in month_killed:\n",
    "        month_killed[key] += value\n",
    "    else:\n",
    "        month_killed[key] = value\n",
    "    \n",
    "month_killed"
   ]
  },
  {
   "cell_type": "markdown",
   "id": "1badb3a0",
   "metadata": {},
   "source": [
    "#### 9. Find the total number of casualties in each country."
   ]
  },
  {
   "cell_type": "code",
   "execution_count": 24,
   "id": "effd60f3",
   "metadata": {},
   "outputs": [
    {
     "data": {
      "text/plain": [
       "{'Afghanistan': 11698,\n",
       " 'Sudan': 255,\n",
       " 'Democratic Republic of the Congo': 636,\n",
       " 'Turkey': 548,\n",
       " 'Syria': 2731,\n",
       " 'Pakistan': 3153,\n",
       " 'Italy': 8,\n",
       " 'Somalia': 3038,\n",
       " 'Yemen': 1446,\n",
       " 'Bahrain': 32,\n",
       " 'Myanmar': 85,\n",
       " 'Burundi': 147,\n",
       " 'Iraq': 10999,\n",
       " 'Egypt': 1499,\n",
       " 'Burkina Faso': 98,\n",
       " 'India': 1157,\n",
       " 'Algeria': 31,\n",
       " 'United States': 1027,\n",
       " 'Philippines': 1148,\n",
       " 'Greece': 7,\n",
       " 'Mali': 657,\n",
       " 'Libya': 316,\n",
       " 'Central African Republic': 569,\n",
       " 'Nigeria': 2300,\n",
       " 'Lebanon': 66,\n",
       " 'Mexico': 29,\n",
       " 'Cameroon': 448,\n",
       " 'Ethiopia': 80,\n",
       " 'Kyrgyzstan': 0,\n",
       " 'Serbia': 1,\n",
       " 'Sweden': 37,\n",
       " 'Thailand': 342,\n",
       " 'Iran': 106,\n",
       " 'France': 35,\n",
       " 'United Kingdom': 343,\n",
       " 'West Bank and Gaza Strip': 125,\n",
       " 'Ukraine': 104,\n",
       " 'Paraguay': 5,\n",
       " 'Colombia': 188,\n",
       " 'Malaysia': 6,\n",
       " 'Russia': 175,\n",
       " 'Kosovo': 4,\n",
       " 'South Africa': 28,\n",
       " 'Chile': 2,\n",
       " 'Kenya': 204,\n",
       " 'Israel': 18,\n",
       " 'Saudi Arabia': 100,\n",
       " 'China': 92,\n",
       " 'Nepal': 97,\n",
       " 'Ecuador': 0,\n",
       " 'Niger': 210,\n",
       " 'Venezuela': 37,\n",
       " 'South Sudan': 836,\n",
       " 'Canada': 31,\n",
       " 'Bangladesh': 97,\n",
       " 'Tajikistan': 1,\n",
       " 'Angola': 416,\n",
       " 'Ireland': 0,\n",
       " 'Peru': 12,\n",
       " 'Dominican Republic': 3,\n",
       " 'Poland': 0,\n",
       " 'Jordan': 5,\n",
       " 'Azerbaijan': 7,\n",
       " 'Mozambique': 33,\n",
       " 'Indonesia': 47,\n",
       " 'Germany': 11,\n",
       " 'Brazil': 0,\n",
       " 'Macedonia': 0,\n",
       " 'Tunisia': 10,\n",
       " 'Uganda': 9,\n",
       " 'Chad': 2,\n",
       " 'Finland': 12,\n",
       " 'Australia': 25,\n",
       " 'Norway': 0,\n",
       " 'Vietnam': 0,\n",
       " 'Tanzania': 10,\n",
       " 'Sierra Leone': 0,\n",
       " 'Sri Lanka': 4,\n",
       " 'Maldives': 1,\n",
       " 'Belgium': 4,\n",
       " 'Rwanda': 10,\n",
       " 'Honduras': 2,\n",
       " 'Czech Republic': 0,\n",
       " 'Malta': 1,\n",
       " 'Gabon': 2,\n",
       " 'Laos': 1,\n",
       " 'Djibouti': 0,\n",
       " 'Austria': 2,\n",
       " 'Zambia': 0,\n",
       " 'Argentina': 0,\n",
       " 'Papua New Guinea': 3,\n",
       " 'Zimbabwe': 1,\n",
       " 'Ivory Coast': 5,\n",
       " 'Spain': 132,\n",
       " 'Taiwan': 1,\n",
       " 'Jamaica': 0,\n",
       " 'Albania': 0,\n",
       " 'Liberia': 0,\n",
       " 'Georgia': 5,\n",
       " 'Malawi': 0,\n",
       " 'Netherlands': 0,\n",
       " 'Latvia': 0}"
      ]
     },
     "execution_count": 24,
     "metadata": {},
     "output_type": "execute_result"
    }
   ],
   "source": [
    "with open ('/Users/Sneha/Desktop/year2017.csv') as file_obj:\n",
    "    file_data = csv.DictReader(file_obj, skipinitialspace = True)\n",
    "    file_list = list(file_data)\n",
    "\n",
    "total_casualities = {}\n",
    "\n",
    "for row in file_list:\n",
    "    key = row['Country']\n",
    "    value = row['casualities']\n",
    "    \n",
    "    if value:\n",
    "        value = int(float(value))\n",
    "    else:\n",
    "        value = 0\n",
    "    \n",
    "    if key in total_casualities:\n",
    "        total_casualities[key] += value\n",
    "    else:\n",
    "        total_casualities[key] = value\n",
    "    \n",
    "total_casualities\n",
    "        "
   ]
  },
  {
   "cell_type": "code",
   "execution_count": null,
   "id": "3afe6e70",
   "metadata": {},
   "outputs": [],
   "source": []
  }
 ],
 "metadata": {
  "kernelspec": {
   "display_name": "Python 3",
   "language": "python",
   "name": "python3"
  },
  "language_info": {
   "codemirror_mode": {
    "name": "ipython",
    "version": 3
   },
   "file_extension": ".py",
   "mimetype": "text/x-python",
   "name": "python",
   "nbconvert_exporter": "python",
   "pygments_lexer": "ipython3",
   "version": "3.7.4"
  }
 },
 "nbformat": 4,
 "nbformat_minor": 5
}
